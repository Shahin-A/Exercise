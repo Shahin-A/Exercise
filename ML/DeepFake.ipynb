{
 "cells": [
  {
   "cell_type": "markdown",
   "metadata": {},
   "source": [
    "# Overview\n",
    "This notebook analyses and identifies a mechanism to detect Deepfake videos of people doing/saying fictional things. This is based on [this](https://www.kaggle.com/c/deepfake-detection-challenge/overview) Kaggle competition. "
   ]
  },
  {
   "cell_type": "markdown",
   "metadata": {},
   "source": [
    "# Analysis\n",
    "1. How long are the videos? What is the max video length?\n",
    "2. Are the videos without sound or audio without a video?\n",
    "2. How many people appear in the videos? Are there any specific people that appear more than others?\n",
    "3. What are the actions that happen in the video? Are the actions performed by the people?\n",
    "4. Can we gather/create a corpus of data that holds the Truth?"
   ]
  },
  {
   "cell_type": "code",
   "execution_count": 33,
   "metadata": {},
   "outputs": [
    {
     "name": "stdout",
     "output_type": "stream",
     "text": [
      "Requirement already satisfied: mtcnn in /opt/anaconda3/lib/python3.7/site-packages (0.1.0)\n",
      "Requirement already satisfied: keras>=2.0.0 in /opt/anaconda3/lib/python3.7/site-packages (from mtcnn) (2.3.1)\n",
      "Requirement already satisfied: opencv-python>=4.1.0 in /opt/anaconda3/lib/python3.7/site-packages (from mtcnn) (4.1.2.30)\n",
      "Requirement already satisfied: keras-preprocessing>=1.0.5 in /opt/anaconda3/lib/python3.7/site-packages (from keras>=2.0.0->mtcnn) (1.1.0)\n",
      "Requirement already satisfied: h5py in /opt/anaconda3/lib/python3.7/site-packages (from keras>=2.0.0->mtcnn) (2.9.0)\n",
      "Requirement already satisfied: scipy>=0.14 in /opt/anaconda3/lib/python3.7/site-packages (from keras>=2.0.0->mtcnn) (1.3.1)\n",
      "Requirement already satisfied: six>=1.9.0 in /opt/anaconda3/lib/python3.7/site-packages (from keras>=2.0.0->mtcnn) (1.12.0)\n",
      "Requirement already satisfied: pyyaml in /opt/anaconda3/lib/python3.7/site-packages (from keras>=2.0.0->mtcnn) (5.1.2)\n",
      "Requirement already satisfied: keras-applications>=1.0.6 in /opt/anaconda3/lib/python3.7/site-packages (from keras>=2.0.0->mtcnn) (1.0.8)\n",
      "Requirement already satisfied: numpy>=1.9.1 in /opt/anaconda3/lib/python3.7/site-packages (from keras>=2.0.0->mtcnn) (1.17.2)\n"
     ]
    }
   ],
   "source": [
    "!pip install mtcnn\n",
    "#!pip install tensorflow"
   ]
  },
  {
   "cell_type": "code",
   "execution_count": 2,
   "metadata": {},
   "outputs": [],
   "source": [
    "import json\n",
    "\n",
    "data_path = \"datasets/deepfake-detection-challenge/{}/{}\"\n",
    "train_folder = \"train_sample_videos\"\n",
    "\n",
    "def read_metadata(path):\n",
    "    with open(path) as json_file:\n",
    "        return json.load(json_file)\n",
    "    \n",
    "metadata = read_metadata(data_path.format(train_folder, \"metadata.json\"))"
   ]
  },
  {
   "cell_type": "code",
   "execution_count": 3,
   "metadata": {},
   "outputs": [
    {
     "name": "stdout",
     "output_type": "stream",
     "text": [
      "There are 323 fake videos\n",
      "There are 77 real videos\n"
     ]
    }
   ],
   "source": [
    "labels = [v['label'] for k, v in metadata.items()]\n",
    "fake_items_count = labels.count('FAKE')\n",
    "real_items_count = labels.count('REAL')\n",
    "print(\"There are {} fake videos\".format(fake_items_count))\n",
    "print(\"There are {} real videos\".format(real_items_count))"
   ]
  },
  {
   "cell_type": "code",
   "execution_count": 9,
   "metadata": {},
   "outputs": [
    {
     "data": {
      "image/png": "[encoded data removed]",
      "text/plain": [
       "<Figure size 432x288 with 1 Axes>"
      ]
     },
     "metadata": {
      "needs_background": "light"
     },
     "output_type": "display_data"
    }
   ],
   "source": [
    "import cv2\n",
    "import matplotlib.pyplot as plt\n",
    "\n",
    "def get_duration(videoCapture):  \n",
    "    fps = videoCapture.get(cv2.CAP_PROP_FPS)\n",
    "    frame_count = int(videoCapture.get(cv2.CAP_PROP_FRAME_COUNT))\n",
    "    return frame_count/fps\n",
    "\n",
    "lengths = []\n",
    "for md in metadata:\n",
    "    cap = cv2.VideoCapture(data_path.format(train_folder, md))\n",
    "    lengths.append(get_duration(cap))\n",
    "\n",
    "plt.hist(lengths)\n",
    "plt.show()"
   ]
  },
  {
   "cell_type": "markdown",
   "metadata": {},
   "source": [
    "## Face Detection & Recognition\n",
    "In order to figure out how many people appear in these videos, we first need to identify the faces within each video ([MTCNN](https://arxiv.org/abs/1604.02878)). Then, we need a model that recognizes who the people are in the photo. FaceNet is a Deep Learning model for face recognition. [Here](https://arxiv.org/pdf/1503.03832.pdf) is the article that describes FaceNet. "
   ]
  },
  {
   "cell_type": "code",
   "execution_count": 29,
   "metadata": {},
   "outputs": [],
   "source": [
    "from mtcnn import MTCNN\n",
    "\n",
    "detector = MTCNN()\n",
    "\n",
    "def get_faces(md, frames):\n",
    "    faces = []\n",
    "    cap = cv2.VideoCapture(data_path.format(train_folder, md))\n",
    "    for i in range(frames):\n",
    "        ret, frame = cap.read()\n",
    "        faces = faces + get_faces_from_frame(frame)\n",
    "    return faces\n",
    "        \n",
    "def get_faces_from_frame(frame):\n",
    "    boxes = detector.detect_faces(frame)\n",
    "    return list(map(lambda box: extract_face(box, frame), boxes))\n",
    "    \n",
    "def extract_face(box, image):\n",
    "    x, y, width, height = box['box']\n",
    "    x1, y1 = abs(x), abs(y)\n",
    "    x2, y2 = x1 + width, y1 + height\n",
    "    return image[y1:y2, x1:x2]\n",
    "\n",
    "def get_all_faces(metadata, frames=10):\n",
    "    faces = []\n",
    "    for md in metadata:\n",
    "        faces = faces + get_faces(md, frames)\n",
    "    return faces\n",
    "\n",
    "faces = get_all_faces(metadata)"
   ]
  },
  {
   "cell_type": "code",
   "execution_count": 34,
   "metadata": {},
   "outputs": [
    {
     "data": {
      "text/plain": [
       "4149"
      ]
     },
     "execution_count": 34,
     "metadata": {},
     "output_type": "execute_result"
    }
   ],
   "source": [
    "len(faces)"
   ]
  },
  {
   "cell_type": "code",
   "execution_count": null,
   "metadata": {},
   "outputs": [],
   "source": []
  }
 ],
 "metadata": {
  "kernelspec": {
   "display_name": "Python 3",
   "language": "python",
   "name": "python3"
  },
  "language_info": {
   "codemirror_mode": {
    "name": "ipython",
    "version": 3
   },
   "file_extension": ".py",
   "mimetype": "text/x-python",
   "name": "python",
   "nbconvert_exporter": "python",
   "pygments_lexer": "ipython3",
   "version": "3.7.4"
  }
 },
 "nbformat": 4,
 "nbformat_minor": 2
}
